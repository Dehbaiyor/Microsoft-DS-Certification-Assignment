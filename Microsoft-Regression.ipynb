{
 "cells": [
  {
   "cell_type": "markdown",
   "metadata": {},
   "source": [
    "# Data Preprocessing"
   ]
  },
  {
   "cell_type": "code",
   "execution_count": 1,
   "metadata": {
    "ExecuteTime": {
     "end_time": "2019-02-12T16:18:58.706589Z",
     "start_time": "2019-02-12T16:17:53.277843Z"
    }
   },
   "outputs": [],
   "source": [
    "import pandas as pd\n",
    "import numpy as np\n",
    "import seaborn as sns\n",
    "import sklearn as skl\n",
    "import matplotlib.pylab as plt"
   ]
  },
  {
   "cell_type": "code",
   "execution_count": 2,
   "metadata": {
    "ExecuteTime": {
     "end_time": "2019-02-12T16:19:00.153954Z",
     "start_time": "2019-02-12T16:18:58.706589Z"
    }
   },
   "outputs": [],
   "source": [
    "train = pd.read_csv('AdvWorksCusts.csv')\n",
    "test = pd.read_csv('AW_test.csv')\n",
    "target_reg= pd.read_csv('AW_AveMonthSpend.csv')\n",
    "target_cl = pd.read_csv('AW_BikeBuyer.csv')"
   ]
  },
  {
   "cell_type": "code",
   "execution_count": 3,
   "metadata": {
    "ExecuteTime": {
     "end_time": "2019-02-12T16:19:00.638519Z",
     "start_time": "2019-02-12T16:19:00.153954Z"
    }
   },
   "outputs": [],
   "source": [
    " pd.DataFrame.drop_duplicates(train, subset=['CustomerID'], keep='first', inplace=True)\n",
    " pd.DataFrame.drop_duplicates(target_reg, subset=['CustomerID'], keep='first', inplace=True)\n",
    " pd.DataFrame.drop_duplicates(target_cl, subset=['CustomerID'], keep='first', inplace=True)"
   ]
  },
  {
   "cell_type": "code",
   "execution_count": 4,
   "metadata": {
    "ExecuteTime": {
     "end_time": "2019-02-12T16:19:00.855686Z",
     "start_time": "2019-02-12T16:19:00.654142Z"
    }
   },
   "outputs": [],
   "source": [
    "join=train.merge(target_reg,on='CustomerID').merge(target_cl,on='CustomerID')"
   ]
  },
  {
   "cell_type": "code",
   "execution_count": 5,
   "metadata": {
    "ExecuteTime": {
     "end_time": "2019-02-12T16:19:01.239661Z",
     "start_time": "2019-02-12T16:19:00.867687Z"
    }
   },
   "outputs": [
    {
     "name": "stdout",
     "output_type": "stream",
     "text": [
      "<class 'pandas.core.frame.DataFrame'>\n",
      "Int64Index: 16404 entries, 0 to 16403\n",
      "Data columns (total 25 columns):\n",
      "CustomerID              16404 non-null int64\n",
      "Title                   88 non-null object\n",
      "FirstName               16404 non-null object\n",
      "MiddleName              9453 non-null object\n",
      "LastName                16404 non-null object\n",
      "Suffix                  2 non-null object\n",
      "AddressLine1            16404 non-null object\n",
      "AddressLine2            274 non-null object\n",
      "City                    16404 non-null object\n",
      "StateProvinceName       16404 non-null object\n",
      "CountryRegionName       16404 non-null object\n",
      "PostalCode              16404 non-null object\n",
      "PhoneNumber             16404 non-null object\n",
      "BirthDate               16404 non-null object\n",
      "Education               16404 non-null object\n",
      "Occupation              16404 non-null object\n",
      "Gender                  16404 non-null object\n",
      "MaritalStatus           16404 non-null object\n",
      "HomeOwnerFlag           16404 non-null int64\n",
      "NumberCarsOwned         16404 non-null int64\n",
      "NumberChildrenAtHome    16404 non-null int64\n",
      "TotalChildren           16404 non-null int64\n",
      "YearlyIncome            16404 non-null int64\n",
      "AveMonthSpend           16404 non-null int64\n",
      "BikeBuyer               16404 non-null int64\n",
      "dtypes: int64(8), object(17)\n",
      "memory usage: 3.3+ MB\n"
     ]
    }
   ],
   "source": [
    "join.info()"
   ]
  },
  {
   "cell_type": "code",
   "execution_count": 6,
   "metadata": {
    "ExecuteTime": {
     "end_time": "2019-02-12T16:19:01.367658Z",
     "start_time": "2019-02-12T16:19:01.259665Z"
    }
   },
   "outputs": [
    {
     "name": "stdout",
     "output_type": "stream",
     "text": [
      "['CustomerID', 'FirstName', 'LastName', 'AddressLine1', 'City', 'StateProvinceName', 'CountryRegionName', 'PostalCode', 'PhoneNumber', 'BirthDate', 'Education', 'Occupation', 'Gender', 'MaritalStatus', 'HomeOwnerFlag', 'NumberCarsOwned', 'NumberChildrenAtHome', 'TotalChildren', 'YearlyIncome', 'AveMonthSpend', 'BikeBuyer']\n"
     ]
    }
   ],
   "source": [
    "nn_cols=[col for col in join.columns if join[col].count()>=0.7*len(join)]\n",
    "print(nn_cols)"
   ]
  },
  {
   "cell_type": "code",
   "execution_count": 7,
   "metadata": {
    "ExecuteTime": {
     "end_time": "2019-02-12T16:19:01.527644Z",
     "start_time": "2019-02-12T16:19:01.379656Z"
    }
   },
   "outputs": [],
   "source": [
    "join=join[nn_cols]"
   ]
  },
  {
   "cell_type": "code",
   "execution_count": 8,
   "metadata": {
    "ExecuteTime": {
     "end_time": "2019-02-12T16:19:01.787628Z",
     "start_time": "2019-02-12T16:19:01.539651Z"
    }
   },
   "outputs": [
    {
     "data": {
      "text/plain": [
       "CustomerID              0\n",
       "FirstName               0\n",
       "LastName                0\n",
       "AddressLine1            0\n",
       "City                    0\n",
       "StateProvinceName       0\n",
       "CountryRegionName       0\n",
       "PostalCode              0\n",
       "PhoneNumber             0\n",
       "BirthDate               0\n",
       "Education               0\n",
       "Occupation              0\n",
       "Gender                  0\n",
       "MaritalStatus           0\n",
       "HomeOwnerFlag           0\n",
       "NumberCarsOwned         0\n",
       "NumberChildrenAtHome    0\n",
       "TotalChildren           0\n",
       "YearlyIncome            0\n",
       "AveMonthSpend           0\n",
       "BikeBuyer               0\n",
       "dtype: int64"
      ]
     },
     "execution_count": 8,
     "metadata": {},
     "output_type": "execute_result"
    }
   ],
   "source": [
    "join.isnull().sum()"
   ]
  },
  {
   "cell_type": "code",
   "execution_count": 9,
   "metadata": {
    "ExecuteTime": {
     "end_time": "2019-02-12T16:19:01.987616Z",
     "start_time": "2019-02-12T16:19:01.811629Z"
    }
   },
   "outputs": [
    {
     "data": {
      "text/plain": [
       "CustomerID               int64\n",
       "FirstName               object\n",
       "LastName                object\n",
       "AddressLine1            object\n",
       "City                    object\n",
       "StateProvinceName       object\n",
       "CountryRegionName       object\n",
       "PostalCode              object\n",
       "PhoneNumber             object\n",
       "BirthDate               object\n",
       "Education               object\n",
       "Occupation              object\n",
       "Gender                  object\n",
       "MaritalStatus           object\n",
       "HomeOwnerFlag            int64\n",
       "NumberCarsOwned          int64\n",
       "NumberChildrenAtHome     int64\n",
       "TotalChildren            int64\n",
       "YearlyIncome             int64\n",
       "AveMonthSpend            int64\n",
       "BikeBuyer                int64\n",
       "dtype: object"
      ]
     },
     "execution_count": 9,
     "metadata": {},
     "output_type": "execute_result"
    }
   ],
   "source": [
    "join.dtypes"
   ]
  },
  {
   "cell_type": "code",
   "execution_count": 10,
   "metadata": {
    "ExecuteTime": {
     "end_time": "2019-02-12T16:19:02.685027Z",
     "start_time": "2019-02-12T16:19:01.999616Z"
    }
   },
   "outputs": [
    {
     "data": {
      "text/plain": [
       "CustomerID              16404\n",
       "FirstName                 662\n",
       "LastName                  363\n",
       "AddressLine1            11871\n",
       "City                      269\n",
       "StateProvinceName          52\n",
       "CountryRegionName           6\n",
       "PostalCode                323\n",
       "PhoneNumber              7949\n",
       "BirthDate                7896\n",
       "Education                   5\n",
       "Occupation                  5\n",
       "Gender                      2\n",
       "MaritalStatus               2\n",
       "HomeOwnerFlag               2\n",
       "NumberCarsOwned             5\n",
       "NumberChildrenAtHome        6\n",
       "TotalChildren               6\n",
       "YearlyIncome            15465\n",
       "AveMonthSpend             152\n",
       "BikeBuyer                   2\n",
       "dtype: int64"
      ]
     },
     "execution_count": 10,
     "metadata": {},
     "output_type": "execute_result"
    }
   ],
   "source": [
    "join.nunique()"
   ]
  },
  {
   "cell_type": "code",
   "execution_count": 11,
   "metadata": {
    "ExecuteTime": {
     "end_time": "2019-02-12T16:19:02.925009Z",
     "start_time": "2019-02-12T16:19:02.705027Z"
    }
   },
   "outputs": [],
   "source": [
    "to_drop = ['FirstName','LastName','City','StateProvinceName','AddressLine1','PostalCode','PhoneNumber']\n",
    "\n",
    "join.drop(to_drop,inplace=True,axis=1)"
   ]
  },
  {
   "cell_type": "code",
   "execution_count": 12,
   "metadata": {
    "ExecuteTime": {
     "end_time": "2019-02-12T16:19:03.312988Z",
     "start_time": "2019-02-12T16:19:02.965013Z"
    }
   },
   "outputs": [
    {
     "data": {
      "text/html": [
       "<div>\n",
       "<style scoped>\n",
       "    .dataframe tbody tr th:only-of-type {\n",
       "        vertical-align: middle;\n",
       "    }\n",
       "\n",
       "    .dataframe tbody tr th {\n",
       "        vertical-align: top;\n",
       "    }\n",
       "\n",
       "    .dataframe thead th {\n",
       "        text-align: right;\n",
       "    }\n",
       "</style>\n",
       "<table border=\"1\" class=\"dataframe\">\n",
       "  <thead>\n",
       "    <tr style=\"text-align: right;\">\n",
       "      <th></th>\n",
       "      <th>CustomerID</th>\n",
       "      <th>CountryRegionName</th>\n",
       "      <th>BirthDate</th>\n",
       "      <th>Education</th>\n",
       "      <th>Occupation</th>\n",
       "      <th>Gender</th>\n",
       "      <th>MaritalStatus</th>\n",
       "      <th>HomeOwnerFlag</th>\n",
       "      <th>NumberCarsOwned</th>\n",
       "      <th>NumberChildrenAtHome</th>\n",
       "      <th>TotalChildren</th>\n",
       "      <th>YearlyIncome</th>\n",
       "      <th>AveMonthSpend</th>\n",
       "      <th>BikeBuyer</th>\n",
       "    </tr>\n",
       "  </thead>\n",
       "  <tbody>\n",
       "    <tr>\n",
       "      <th>0</th>\n",
       "      <td>11000</td>\n",
       "      <td>Australia</td>\n",
       "      <td>1966-04-08</td>\n",
       "      <td>Bachelors</td>\n",
       "      <td>Professional</td>\n",
       "      <td>M</td>\n",
       "      <td>M</td>\n",
       "      <td>1</td>\n",
       "      <td>0</td>\n",
       "      <td>0</td>\n",
       "      <td>2</td>\n",
       "      <td>137947</td>\n",
       "      <td>89</td>\n",
       "      <td>0</td>\n",
       "    </tr>\n",
       "    <tr>\n",
       "      <th>1</th>\n",
       "      <td>11001</td>\n",
       "      <td>Australia</td>\n",
       "      <td>1965-05-14</td>\n",
       "      <td>Bachelors</td>\n",
       "      <td>Professional</td>\n",
       "      <td>M</td>\n",
       "      <td>S</td>\n",
       "      <td>0</td>\n",
       "      <td>1</td>\n",
       "      <td>3</td>\n",
       "      <td>3</td>\n",
       "      <td>101141</td>\n",
       "      <td>117</td>\n",
       "      <td>1</td>\n",
       "    </tr>\n",
       "    <tr>\n",
       "      <th>2</th>\n",
       "      <td>11002</td>\n",
       "      <td>Australia</td>\n",
       "      <td>1965-08-12</td>\n",
       "      <td>Bachelors</td>\n",
       "      <td>Professional</td>\n",
       "      <td>M</td>\n",
       "      <td>M</td>\n",
       "      <td>1</td>\n",
       "      <td>1</td>\n",
       "      <td>3</td>\n",
       "      <td>3</td>\n",
       "      <td>91945</td>\n",
       "      <td>123</td>\n",
       "      <td>0</td>\n",
       "    </tr>\n",
       "    <tr>\n",
       "      <th>3</th>\n",
       "      <td>11003</td>\n",
       "      <td>Australia</td>\n",
       "      <td>1968-02-15</td>\n",
       "      <td>Bachelors</td>\n",
       "      <td>Professional</td>\n",
       "      <td>F</td>\n",
       "      <td>S</td>\n",
       "      <td>0</td>\n",
       "      <td>1</td>\n",
       "      <td>0</td>\n",
       "      <td>0</td>\n",
       "      <td>86688</td>\n",
       "      <td>50</td>\n",
       "      <td>0</td>\n",
       "    </tr>\n",
       "    <tr>\n",
       "      <th>4</th>\n",
       "      <td>11004</td>\n",
       "      <td>Australia</td>\n",
       "      <td>1968-08-08</td>\n",
       "      <td>Bachelors</td>\n",
       "      <td>Professional</td>\n",
       "      <td>F</td>\n",
       "      <td>S</td>\n",
       "      <td>1</td>\n",
       "      <td>4</td>\n",
       "      <td>5</td>\n",
       "      <td>5</td>\n",
       "      <td>92771</td>\n",
       "      <td>95</td>\n",
       "      <td>1</td>\n",
       "    </tr>\n",
       "  </tbody>\n",
       "</table>\n",
       "</div>"
      ],
      "text/plain": [
       "   CustomerID CountryRegionName   BirthDate   Education    Occupation Gender  \\\n",
       "0       11000         Australia  1966-04-08  Bachelors   Professional      M   \n",
       "1       11001         Australia  1965-05-14  Bachelors   Professional      M   \n",
       "2       11002         Australia  1965-08-12  Bachelors   Professional      M   \n",
       "3       11003         Australia  1968-02-15  Bachelors   Professional      F   \n",
       "4       11004         Australia  1968-08-08  Bachelors   Professional      F   \n",
       "\n",
       "  MaritalStatus  HomeOwnerFlag  NumberCarsOwned  NumberChildrenAtHome  \\\n",
       "0             M              1                0                     0   \n",
       "1             S              0                1                     3   \n",
       "2             M              1                1                     3   \n",
       "3             S              0                1                     0   \n",
       "4             S              1                4                     5   \n",
       "\n",
       "   TotalChildren  YearlyIncome  AveMonthSpend  BikeBuyer  \n",
       "0              2        137947             89          0  \n",
       "1              3        101141            117          1  \n",
       "2              3         91945            123          0  \n",
       "3              0         86688             50          0  \n",
       "4              5         92771             95          1  "
      ]
     },
     "execution_count": 12,
     "metadata": {},
     "output_type": "execute_result"
    }
   ],
   "source": [
    "join.head()"
   ]
  },
  {
   "cell_type": "code",
   "execution_count": 13,
   "metadata": {
    "ExecuteTime": {
     "end_time": "2019-02-12T16:19:04.388911Z",
     "start_time": "2019-02-12T16:19:03.340989Z"
    }
   },
   "outputs": [],
   "source": [
    "join['BirthYear']=pd.to_datetime(join['BirthDate']).dt.year;\n",
    "join['Age']=1998-join['BirthYear']\n",
    "join.drop(['BirthDate','BirthYear'],axis=1,inplace=True)"
   ]
  },
  {
   "cell_type": "code",
   "execution_count": 14,
   "metadata": {
    "ExecuteTime": {
     "end_time": "2019-02-12T16:19:04.934702Z",
     "start_time": "2019-02-12T16:19:04.388911Z"
    }
   },
   "outputs": [],
   "source": [
    "test['BirthYear']=pd.to_datetime(test['BirthDate']).dt.year;\n",
    "test['Age']=1998-test['BirthYear']\n",
    "test.drop(['BirthDate','BirthYear'],axis=1,inplace=True)"
   ]
  },
  {
   "cell_type": "code",
   "execution_count": 15,
   "metadata": {
    "ExecuteTime": {
     "end_time": "2019-02-12T16:19:05.037195Z",
     "start_time": "2019-02-12T16:19:04.950329Z"
    }
   },
   "outputs": [
    {
     "data": {
      "text/plain": [
       "CustomerID              0\n",
       "CountryRegionName       0\n",
       "Education               0\n",
       "Occupation              0\n",
       "Gender                  0\n",
       "MaritalStatus           0\n",
       "HomeOwnerFlag           0\n",
       "NumberCarsOwned         0\n",
       "NumberChildrenAtHome    0\n",
       "TotalChildren           0\n",
       "YearlyIncome            0\n",
       "AveMonthSpend           0\n",
       "BikeBuyer               0\n",
       "Age                     0\n",
       "dtype: int64"
      ]
     },
     "execution_count": 15,
     "metadata": {},
     "output_type": "execute_result"
    }
   ],
   "source": [
    "join.isnull().sum()"
   ]
  },
  {
   "cell_type": "code",
   "execution_count": 16,
   "metadata": {
    "ExecuteTime": {
     "end_time": "2019-02-12T16:19:05.477173Z",
     "start_time": "2019-02-12T16:19:05.049198Z"
    }
   },
   "outputs": [
    {
     "data": {
      "text/plain": [
       "CustomerID              16404\n",
       "CountryRegionName           6\n",
       "Education                   5\n",
       "Occupation                  5\n",
       "Gender                      2\n",
       "MaritalStatus               2\n",
       "HomeOwnerFlag               2\n",
       "NumberCarsOwned             5\n",
       "NumberChildrenAtHome        6\n",
       "TotalChildren               6\n",
       "YearlyIncome            15465\n",
       "AveMonthSpend             152\n",
       "BikeBuyer                   2\n",
       "Age                        70\n",
       "dtype: int64"
      ]
     },
     "execution_count": 16,
     "metadata": {},
     "output_type": "execute_result"
    }
   ],
   "source": [
    "join.nunique()"
   ]
  },
  {
   "cell_type": "code",
   "execution_count": 17,
   "metadata": {
    "ExecuteTime": {
     "end_time": "2019-02-12T16:19:05.629161Z",
     "start_time": "2019-02-12T16:19:05.493171Z"
    }
   },
   "outputs": [],
   "source": [
    "cat_col=[col for col in join.columns if join[col].nunique()<7]\n",
    "num_col=list(set([col for col in join.columns if join[col].nunique()>7])-set(['CustomerID']))"
   ]
  },
  {
   "cell_type": "code",
   "execution_count": 18,
   "metadata": {
    "ExecuteTime": {
     "end_time": "2019-02-12T16:19:05.805167Z",
     "start_time": "2019-02-12T16:19:05.641163Z"
    }
   },
   "outputs": [
    {
     "name": "stdout",
     "output_type": "stream",
     "text": [
      "Categorical features are: ['CountryRegionName', 'Education', 'Occupation', 'Gender', 'MaritalStatus', 'HomeOwnerFlag', 'NumberCarsOwned', 'NumberChildrenAtHome', 'TotalChildren', 'BikeBuyer']\n",
      "\n",
      "Numerical features are: ['AveMonthSpend', 'Age', 'YearlyIncome']\n"
     ]
    }
   ],
   "source": [
    "print('Categorical features are:',cat_col)\n",
    "print('')\n",
    "print('Numerical features are:',num_col)"
   ]
  },
  {
   "cell_type": "markdown",
   "metadata": {},
   "source": [
    "## Initial EDA"
   ]
  },
  {
   "cell_type": "markdown",
   "metadata": {},
   "source": [
    "# Regression"
   ]
  },
  {
   "cell_type": "code",
   "execution_count": 48,
   "metadata": {
    "ExecuteTime": {
     "end_time": "2019-02-12T16:32:36.158423Z",
     "start_time": "2019-02-12T16:32:36.134424Z"
    }
   },
   "outputs": [
    {
     "data": {
      "text/plain": [
       "Index(['CustomerID', 'CountryRegionName', 'Education', 'Occupation', 'Gender',\n",
       "       'MaritalStatus', 'HomeOwnerFlag', 'NumberCarsOwned',\n",
       "       'NumberChildrenAtHome', 'TotalChildren', 'YearlyIncome',\n",
       "       'AveMonthSpend', 'BikeBuyer', 'Age'],\n",
       "      dtype='object')"
      ]
     },
     "execution_count": 48,
     "metadata": {},
     "output_type": "execute_result"
    }
   ],
   "source": [
    "join.columns"
   ]
  },
  {
   "cell_type": "code",
   "execution_count": 50,
   "metadata": {
    "ExecuteTime": {
     "end_time": "2019-02-12T16:34:24.221418Z",
     "start_time": "2019-02-12T16:34:24.209420Z"
    }
   },
   "outputs": [],
   "source": [
    "cat_cols=cat_col.remove('BikeBuyer')"
   ]
  },
  {
   "cell_type": "code",
   "execution_count": 51,
   "metadata": {
    "ExecuteTime": {
     "end_time": "2019-02-12T16:34:29.202913Z",
     "start_time": "2019-02-12T16:34:29.122921Z"
    }
   },
   "outputs": [],
   "source": [
    "join_x=pd.get_dummies(join.drop('BikeBuyer',axis=1), columns=cat_col,prefix=cat_col)"
   ]
  },
  {
   "cell_type": "code",
   "execution_count": 52,
   "metadata": {
    "ExecuteTime": {
     "end_time": "2019-02-12T16:34:32.850735Z",
     "start_time": "2019-02-12T16:34:32.802740Z"
    }
   },
   "outputs": [],
   "source": [
    "X=join_x.drop('AveMonthSpend',axis=1)\n",
    "Y=join['AveMonthSpend']\n",
    "\n",
    "Y=Y.ravel().astype('float64')\n",
    "\n",
    "split_test_size=0.3\n",
    "\n",
    "from sklearn.model_selection import train_test_split,StratifiedShuffleSplit\n",
    "Xtrain, Xtest, Ytrain, Ytest= train_test_split(X,Y, test_size=split_test_size, random_state=5)"
   ]
  },
  {
   "cell_type": "code",
   "execution_count": 53,
   "metadata": {
    "ExecuteTime": {
     "end_time": "2019-02-12T16:34:34.934076Z",
     "start_time": "2019-02-12T16:34:34.894083Z"
    }
   },
   "outputs": [],
   "source": [
    "from catboost import CatBoostRegressor\n",
    "cb=CatBoostRegressor(iterations=1000,depth=5,eval_metric='RMSE',\n",
    "                    random_seed=10,learning_rate=.1,verbose=False)"
   ]
  },
  {
   "cell_type": "code",
   "execution_count": 54,
   "metadata": {
    "ExecuteTime": {
     "end_time": "2019-02-12T16:35:29.983577Z",
     "start_time": "2019-02-12T16:34:36.784053Z"
    }
   },
   "outputs": [
    {
     "name": "stdout",
     "output_type": "stream",
     "text": [
      "0:\tlearn: 69.8234130\ttest: 69.9817506\tbest: 69.9817506 (0)\ttotal: 74.5ms\tremaining: 1m 14s\n",
      "50:\tlearn: 3.7249685\ttest: 3.7100230\tbest: 3.7100230 (50)\ttotal: 4.26s\tremaining: 1m 19s\n",
      "100:\tlearn: 3.3533412\ttest: 3.3374653\tbest: 3.3374653 (100)\ttotal: 7.69s\tremaining: 1m 8s\n",
      "150:\tlearn: 3.2387810\ttest: 3.2370252\tbest: 3.2370191 (149)\ttotal: 10.9s\tremaining: 1m 1s\n",
      "200:\tlearn: 3.1754919\ttest: 3.1869222\tbest: 3.1869222 (200)\ttotal: 14s\tremaining: 55.7s\n",
      "250:\tlearn: 3.1342968\ttest: 3.1596247\tbest: 3.1595775 (248)\ttotal: 17.5s\tremaining: 52.2s\n",
      "300:\tlearn: 3.1092185\ttest: 3.1450619\tbest: 3.1450619 (300)\ttotal: 20.5s\tremaining: 47.6s\n",
      "350:\tlearn: 3.0895728\ttest: 3.1342118\tbest: 3.1342118 (350)\ttotal: 24.2s\tremaining: 44.7s\n",
      "400:\tlearn: 3.0748081\ttest: 3.1246556\tbest: 3.1246556 (400)\ttotal: 28.9s\tremaining: 43.2s\n",
      "450:\tlearn: 3.0576132\ttest: 3.1127968\tbest: 3.1127968 (450)\ttotal: 33.2s\tremaining: 40.4s\n",
      "500:\tlearn: 3.0487726\ttest: 3.1094669\tbest: 3.1093054 (497)\ttotal: 36.9s\tremaining: 36.7s\n",
      "550:\tlearn: 3.0438119\ttest: 3.1085447\tbest: 3.1084484 (549)\ttotal: 40.2s\tremaining: 32.8s\n",
      "600:\tlearn: 3.0353591\ttest: 3.1043196\tbest: 3.1043138 (599)\ttotal: 43.5s\tremaining: 28.9s\n",
      "650:\tlearn: 3.0327682\ttest: 3.1040855\tbest: 3.1036869 (641)\ttotal: 46.4s\tremaining: 24.9s\n",
      "700:\tlearn: 3.0306086\ttest: 3.1033584\tbest: 3.1032285 (691)\ttotal: 49.3s\tremaining: 21s\n",
      "Stopped by overfitting detector  (50 iterations wait)\n",
      "\n",
      "bestTest = 3.103228476\n",
      "bestIteration = 691\n",
      "\n",
      "Shrink model to first 692 iterations.\n"
     ]
    },
    {
     "data": {
      "text/plain": [
       "<catboost.core.CatBoostRegressor at 0x1bfdba825f8>"
      ]
     },
     "execution_count": 54,
     "metadata": {},
     "output_type": "execute_result"
    }
   ],
   "source": [
    "cb.fit(Xtrain,Ytrain,use_best_model=True,eval_set=(Xtest,Ytest),early_stopping_rounds=50,verbose=50)"
   ]
  },
  {
   "cell_type": "code",
   "execution_count": 71,
   "metadata": {
    "ExecuteTime": {
     "end_time": "2019-02-12T16:41:51.454584Z",
     "start_time": "2019-02-12T16:41:51.430587Z"
    }
   },
   "outputs": [],
   "source": [
    "features=[col for col in join.drop(['BikeBuyer','AveMonthSpend'],axis=1)]\n",
    "tests=test[features]"
   ]
  },
  {
   "cell_type": "code",
   "execution_count": 74,
   "metadata": {
    "ExecuteTime": {
     "end_time": "2019-02-12T16:42:13.024322Z",
     "start_time": "2019-02-12T16:42:12.972326Z"
    }
   },
   "outputs": [],
   "source": [
    "test_x=pd.get_dummies(tests, columns=cat_col,prefix=cat_col)"
   ]
  },
  {
   "cell_type": "code",
   "execution_count": 75,
   "metadata": {
    "ExecuteTime": {
     "end_time": "2019-02-12T16:42:15.511579Z",
     "start_time": "2019-02-12T16:42:15.188942Z"
    }
   },
   "outputs": [],
   "source": [
    "np.savetxt('reg.csv',cb.predict(test_x),delimiter=',')"
   ]
  },
  {
   "cell_type": "code",
   "execution_count": 70,
   "metadata": {
    "ExecuteTime": {
     "end_time": "2019-02-12T16:40:55.925465Z",
     "start_time": "2019-02-12T16:40:55.905468Z"
    }
   },
   "outputs": [
    {
     "data": {
      "text/plain": [
       "(42,)"
      ]
     },
     "execution_count": 70,
     "metadata": {},
     "output_type": "execute_result"
    }
   ],
   "source": [
    "Xtrain.columns.shape"
   ]
  },
  {
   "cell_type": "code",
   "execution_count": null,
   "metadata": {},
   "outputs": [],
   "source": []
  }
 ],
 "metadata": {
  "kernelspec": {
   "display_name": "Python 3",
   "language": "python",
   "name": "python3"
  },
  "language_info": {
   "codemirror_mode": {
    "name": "ipython",
    "version": 3
   },
   "file_extension": ".py",
   "mimetype": "text/x-python",
   "name": "python",
   "nbconvert_exporter": "python",
   "pygments_lexer": "ipython3",
   "version": "3.6.4"
  },
  "toc": {
   "base_numbering": 1,
   "nav_menu": {},
   "number_sections": true,
   "sideBar": true,
   "skip_h1_title": false,
   "title_cell": "Table of Contents",
   "title_sidebar": "Contents",
   "toc_cell": false,
   "toc_position": {},
   "toc_section_display": true,
   "toc_window_display": true
  },
  "varInspector": {
   "cols": {
    "lenName": 16,
    "lenType": 16,
    "lenVar": 40
   },
   "kernels_config": {
    "python": {
     "delete_cmd_postfix": "",
     "delete_cmd_prefix": "del ",
     "library": "var_list.py",
     "varRefreshCmd": "print(var_dic_list())"
    },
    "r": {
     "delete_cmd_postfix": ") ",
     "delete_cmd_prefix": "rm(",
     "library": "var_list.r",
     "varRefreshCmd": "cat(var_dic_list()) "
    }
   },
   "types_to_exclude": [
    "module",
    "function",
    "builtin_function_or_method",
    "instance",
    "_Feature"
   ],
   "window_display": false
  }
 },
 "nbformat": 4,
 "nbformat_minor": 2
}
